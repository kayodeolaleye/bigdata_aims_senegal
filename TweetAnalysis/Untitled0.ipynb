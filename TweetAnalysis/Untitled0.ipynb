{
 "metadata": {
  "name": "",
  "signature": "sha256:78259c4872bfd28c38205c271ae12bcd64e08f3188851b5c49694bc9c1d1fd1a"
 },
 "nbformat": 3,
 "nbformat_minor": 0,
 "worksheets": [
  {
   "cells": [
    {
     "cell_type": "code",
     "collapsed": false,
     "input": [
      "%matplotlib inline\n",
      "import numpy as np\n",
      "import json\n",
      "import pandas as pd\n",
      "import matplotlib.pyplot as plt\n",
      "\n",
      "tweets_data_path = '../data/africa_ethiopia_tweets.txt'\n",
      "\n",
      "tweets_data = []\n",
      "tweets_file = open(tweets_data_path, \"r\")\n",
      "\n",
      "for line in tweets_file:\n",
      "    try:\n",
      "        tweet = json.loads(line)\n",
      "        tweets_data.append(tweet)\n",
      "    except:\n",
      "        continue\n",
      "        \n",
      "\n",
      "\n",
      "\n",
      "\n",
      "def get_tweet_text(tweet):\n",
      "    #print tweet['text']\n",
      "    return tweet['text']\n",
      "\n",
      "columns = ['text', 'lang','location','followers_count','timestamp_ms'] #,'friends_count', 'country'\n",
      "index = np.arange(len(tweets_data)) # array of numbers for the number of samples\n",
      "\n",
      "tweets = pd.DataFrame(columns=columns, index = index)\n",
      "\n",
      "#print tweets_data[0]\n",
      "print tweets_data[2].keys() #['text']\n",
      "print 'saved numbers of tweets: ', len(tweets_data)\n",
      "\n",
      "\n",
      "\n",
      "#df = pd.DataFrame(columns=columns, index = index)\n",
      "\n"
     ],
     "language": "python",
     "metadata": {},
     "outputs": [
      {
       "output_type": "stream",
       "stream": "stdout",
       "text": [
        "[u'contributors', u'truncated', u'text', u'in_reply_to_status_id', u'id', u'favorite_count', u'source', u'retweeted', u'coordinates', u'timestamp_ms', u'entities', u'in_reply_to_screen_name', u'id_str', u'retweet_count', u'in_reply_to_user_id', u'favorited', u'retweeted_status', u'user', u'geo', u'in_reply_to_user_id_str', u'possibly_sensitive', u'lang', u'created_at', u'filter_level', u'in_reply_to_status_id_str', u'place']\n",
        "saved numbers of tweets:  3053\n"
       ]
      }
     ],
     "prompt_number": 3
    },
    {
     "cell_type": "code",
     "collapsed": false,
     "input": [
      "tweets['text'] = map(lambda tweet: tweet['text'], tweets_data)\n",
      "tweets['lang'] = map(lambda tweet: tweet['lang'], tweets_data)\n",
      "tweets['location'] = map(lambda tweet: tweet['user']['location'] if tweet['user']['location'] != None else u'Unknown', tweets_data)\n",
      "tweets['followers_count'] = map(lambda tweet: tweet['user']['followers_count'], tweets_data)\n",
      "tweets['timestamp_ms'] = map(lambda tweet: tweet['timestamp_ms'], tweets_data)\n",
      "\n",
      "tweets['location'].value_counts()"
     ],
     "language": "python",
     "metadata": {},
     "outputs": [
      {
       "metadata": {},
       "output_type": "pyout",
       "prompt_number": 2,
       "text": [
        "                  1237\n",
        "South Africa        48\n",
        "Africa              47\n",
        "Nigeria             32\n",
        "Nairobi, Kenya      28\n",
        "Texas               26\n",
        "Nairobi             25\n",
        "Arizona             24\n",
        "Utah                24\n",
        "Lagos, Nigeria      19\n",
        "London              19\n",
        "Worldwide           18\n",
        "Cape Town           18\n",
        "Michigan            17\n",
        "Lagos               16\n",
        "...\n",
        "LasgidiS Panorama        1\n",
        "Beyond Earth             1\n",
        "Aperture Laboratories    1\n",
        "Gh. Accra                1\n",
        "Nairobi, KENYA           1\n",
        "Phalaborwa               1\n",
        "Viterbo                  1\n",
        "Africa de Sud            1\n",
        "Lakki Marwat             1\n",
        "Bulawayo, Zimbabwe       1\n",
        "Banglore                 1\n",
        "Palestine                1\n",
        "Cheshire                 1\n",
        "Ethiopia                 1\n",
        "All Around the Globe.    1\n",
        "Length: 1007, dtype: int64"
       ]
      }
     ],
     "prompt_number": 2
    },
    {
     "cell_type": "code",
     "collapsed": false,
     "input": [],
     "language": "python",
     "metadata": {},
     "outputs": []
    }
   ],
   "metadata": {}
  }
 ]
}